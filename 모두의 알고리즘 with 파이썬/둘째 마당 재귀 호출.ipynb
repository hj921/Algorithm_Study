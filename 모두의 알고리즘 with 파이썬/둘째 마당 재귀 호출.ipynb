{
 "cells": [
  {
   "cell_type": "code",
   "execution_count": 8,
   "metadata": {},
   "outputs": [],
   "source": [
    "from IPython.core.interactiveshell import InteractiveShell\n",
    "InteractiveShell.ast_node_interactivity = 'all'\n",
    "import time"
   ]
  },
  {
   "cell_type": "markdown",
   "metadata": {},
   "source": [
    "### 팩토리얼 구하기"
   ]
  },
  {
   "cell_type": "code",
   "execution_count": 3,
   "metadata": {},
   "outputs": [],
   "source": [
    "def factory(n):\n",
    "    result = 1\n",
    "    for i in range(1, n+1):\n",
    "        result *= i\n",
    "    return result"
   ]
  },
  {
   "cell_type": "code",
   "execution_count": 4,
   "metadata": {},
   "outputs": [
    {
     "data": {
      "text/plain": [
       "120"
      ]
     },
     "execution_count": 4,
     "metadata": {},
     "output_type": "execute_result"
    }
   ],
   "source": [
    "factory(5)"
   ]
  },
  {
   "cell_type": "code",
   "execution_count": 5,
   "metadata": {},
   "outputs": [
    {
     "data": {
      "text/plain": [
       "3628800"
      ]
     },
     "execution_count": 5,
     "metadata": {},
     "output_type": "execute_result"
    }
   ],
   "source": [
    "factory(10)"
   ]
  },
  {
   "cell_type": "code",
   "execution_count": 6,
   "metadata": {},
   "outputs": [
    {
     "data": {
      "text/plain": [
       "1"
      ]
     },
     "execution_count": 6,
     "metadata": {},
     "output_type": "execute_result"
    }
   ],
   "source": [
    "factory(1)"
   ]
  },
  {
   "cell_type": "code",
   "execution_count": 7,
   "metadata": {},
   "outputs": [],
   "source": [
    "def factory2(n):\n",
    "    result = 1\n",
    "    for i in range(1, n+1):\n",
    "        result = factory2(n-1)*n\n",
    "    return result"
   ]
  },
  {
   "cell_type": "code",
   "execution_count": 8,
   "metadata": {},
   "outputs": [],
   "source": [
    "def factory2_with_stop(n):\n",
    "    result = factory2(n-1)*n\n",
    "    n = n-1\n",
    "    return result"
   ]
  },
  {
   "cell_type": "code",
   "execution_count": 9,
   "metadata": {},
   "outputs": [
    {
     "data": {
      "text/plain": [
       "120"
      ]
     },
     "execution_count": 9,
     "metadata": {},
     "output_type": "execute_result"
    }
   ],
   "source": [
    "factory2_with_stop(5)"
   ]
  },
  {
   "cell_type": "code",
   "execution_count": 10,
   "metadata": {},
   "outputs": [
    {
     "data": {
      "text/plain": [
       "3628800"
      ]
     },
     "execution_count": 10,
     "metadata": {},
     "output_type": "execute_result"
    }
   ],
   "source": [
    "factory2_with_stop(10)"
   ]
  },
  {
   "cell_type": "code",
   "execution_count": 11,
   "metadata": {},
   "outputs": [
    {
     "data": {
      "text/plain": [
       "120"
      ]
     },
     "execution_count": 11,
     "metadata": {},
     "output_type": "execute_result"
    }
   ],
   "source": [
    "factory2(5)"
   ]
  },
  {
   "cell_type": "code",
   "execution_count": 12,
   "metadata": {},
   "outputs": [
    {
     "data": {
      "text/plain": [
       "3628800"
      ]
     },
     "execution_count": 12,
     "metadata": {},
     "output_type": "execute_result"
    }
   ],
   "source": [
    "factory2(10)"
   ]
  },
  {
   "cell_type": "code",
   "execution_count": 13,
   "metadata": {},
   "outputs": [],
   "source": [
    "def factory_book(n):\n",
    "    if n <= 1:\n",
    "        return 1\n",
    "    return n*factory_book(n-1)"
   ]
  },
  {
   "cell_type": "code",
   "execution_count": 14,
   "metadata": {},
   "outputs": [
    {
     "data": {
      "text/plain": [
       "120"
      ]
     },
     "execution_count": 14,
     "metadata": {},
     "output_type": "execute_result"
    }
   ],
   "source": [
    "factory_book(5)"
   ]
  },
  {
   "cell_type": "code",
   "execution_count": 15,
   "metadata": {},
   "outputs": [
    {
     "data": {
      "text/plain": [
       "3628800"
      ]
     },
     "execution_count": 15,
     "metadata": {},
     "output_type": "execute_result"
    }
   ],
   "source": [
    "factory_book(10)"
   ]
  },
  {
   "cell_type": "code",
   "execution_count": 16,
   "metadata": {},
   "outputs": [
    {
     "data": {
      "text/plain": [
       "1"
      ]
     },
     "execution_count": 16,
     "metadata": {},
     "output_type": "execute_result"
    }
   ],
   "source": [
    "factory_book(1)"
   ]
  },
  {
   "cell_type": "markdown",
   "metadata": {},
   "source": [
    "### 연습문제\n",
    "#### 4-1. 문제 1의 1부터 n까지의 합 구하기를 재귀 호출로 만들어 보세요."
   ]
  },
  {
   "cell_type": "code",
   "execution_count": 1,
   "metadata": {},
   "outputs": [],
   "source": [
    "def sum_prob(n):\n",
    "    if n <= 0:\n",
    "        return 0\n",
    "    return n + sum_prob(n-1)"
   ]
  },
  {
   "cell_type": "code",
   "execution_count": 2,
   "metadata": {},
   "outputs": [
    {
     "data": {
      "text/plain": [
       "55"
      ]
     },
     "execution_count": 2,
     "metadata": {},
     "output_type": "execute_result"
    }
   ],
   "source": [
    "sum_prob(10)"
   ]
  },
  {
   "cell_type": "code",
   "execution_count": 3,
   "metadata": {},
   "outputs": [
    {
     "data": {
      "text/plain": [
       "5050"
      ]
     },
     "execution_count": 3,
     "metadata": {},
     "output_type": "execute_result"
    }
   ],
   "source": [
    "sum_prob(100)"
   ]
  },
  {
   "cell_type": "markdown",
   "metadata": {},
   "source": [
    "#### 4-2. 문제 2의 숫자 n개 중에서 최댓값 찾기를 재귀호출로 만들어 보세요."
   ]
  },
  {
   "cell_type": "code",
   "execution_count": 4,
   "metadata": {},
   "outputs": [],
   "source": [
    "# def find_max_recursion(n):\n",
    "#     n_n = 0\n",
    "#     if type(n) is list:\n",
    "#         n_n = n[0]\n",
    "#     else:\n",
    "#         n_n = n\n",
    "#     if n_n > find_max_recursion(n[1]):\n",
    "#         return n_n\n",
    "#     n.pop(n[0])"
   ]
  },
  {
   "cell_type": "code",
   "execution_count": 5,
   "metadata": {},
   "outputs": [],
   "source": [
    "def find_max_recursion_book(a, n):\n",
    "    print(\"a is \", a, \"n is \", n)\n",
    "    if n == 1:\n",
    "        return a[0]\n",
    "    print(\"n is \", n)\n",
    "    max_n_1 = find_max_recursion_book(a, n - 1)\n",
    "    print(\"max_n_1 is \", max_n_1)\n",
    "    if max_n_1 > a[n - 1]:\n",
    "        return max_n_1\n",
    "        print(\"max_n_1 is \", max_n_1)\n",
    "    else:\n",
    "        return a[n - 1]"
   ]
  },
  {
   "cell_type": "code",
   "execution_count": 63,
   "metadata": {},
   "outputs": [],
   "source": [
    "v = [17, 92, 18, 33, 58, 7, 33, 42]"
   ]
  },
  {
   "cell_type": "code",
   "execution_count": 64,
   "metadata": {},
   "outputs": [],
   "source": [
    "start_time = time.time()"
   ]
  },
  {
   "cell_type": "code",
   "execution_count": 65,
   "metadata": {},
   "outputs": [
    {
     "name": "stdout",
     "output_type": "stream",
     "text": [
      "a is  [17, 92, 18, 33, 58, 7, 33, 42] n is  8\n",
      "n is  8\n",
      "a is  [17, 92, 18, 33, 58, 7, 33, 42] n is  7\n",
      "n is  7\n",
      "a is  [17, 92, 18, 33, 58, 7, 33, 42] n is  6\n",
      "n is  6\n",
      "a is  [17, 92, 18, 33, 58, 7, 33, 42] n is  5\n",
      "n is  5\n",
      "a is  [17, 92, 18, 33, 58, 7, 33, 42] n is  4\n",
      "n is  4\n",
      "a is  [17, 92, 18, 33, 58, 7, 33, 42] n is  3\n",
      "n is  3\n",
      "a is  [17, 92, 18, 33, 58, 7, 33, 42] n is  2\n",
      "n is  2\n",
      "a is  [17, 92, 18, 33, 58, 7, 33, 42] n is  1\n",
      "max_n_1 is  17\n",
      "max_n_1 is  92\n",
      "max_n_1 is  92\n",
      "max_n_1 is  92\n",
      "max_n_1 is  92\n",
      "max_n_1 is  92\n",
      "max_n_1 is  92\n"
     ]
    },
    {
     "data": {
      "text/plain": [
       "92"
      ]
     },
     "execution_count": 65,
     "metadata": {},
     "output_type": "execute_result"
    }
   ],
   "source": [
    "find_max_recursion_book(v, len(v))"
   ]
  },
  {
   "cell_type": "code",
   "execution_count": 66,
   "metadata": {},
   "outputs": [
    {
     "name": "stdout",
     "output_type": "stream",
     "text": [
      "***0.3664083480834961 seconds ***\n"
     ]
    }
   ],
   "source": [
    "print(\"***%s seconds ***\" % (time.time() - start_time))"
   ]
  },
  {
   "cell_type": "code",
   "execution_count": 20,
   "metadata": {},
   "outputs": [],
   "source": [
    "def find_max_recursion(n, gtn=None):\n",
    "    print(n)\n",
    "    if gtn is None:\n",
    "        gtn = n.pop()\n",
    "        print(\"gtn is \", gtn)\n",
    "    current = n.pop()\n",
    "    print(\"current is \", current)\n",
    "    if current > gtn:\n",
    "        gtn = current\n",
    "        print(\"gtn is \", gtn)\n",
    "    if n:\n",
    "        print(\"n is \", n)\n",
    "        return find_max_recursion(n, gtn)\n",
    "    return gtn"
   ]
  },
  {
   "cell_type": "code",
   "execution_count": 67,
   "metadata": {},
   "outputs": [],
   "source": [
    "v = [17, 92, 18, 33, 58, 7, 33, 42]"
   ]
  },
  {
   "cell_type": "code",
   "execution_count": 68,
   "metadata": {},
   "outputs": [],
   "source": [
    "start_time = time.time()"
   ]
  },
  {
   "cell_type": "code",
   "execution_count": 69,
   "metadata": {},
   "outputs": [
    {
     "name": "stdout",
     "output_type": "stream",
     "text": [
      "[17, 92, 18, 33, 58, 7, 33, 42]\n",
      "gtn is  42\n",
      "current is  33\n",
      "n is  [17, 92, 18, 33, 58, 7]\n",
      "[17, 92, 18, 33, 58, 7]\n",
      "current is  7\n",
      "n is  [17, 92, 18, 33, 58]\n",
      "[17, 92, 18, 33, 58]\n",
      "current is  58\n",
      "gtn is  58\n",
      "n is  [17, 92, 18, 33]\n",
      "[17, 92, 18, 33]\n",
      "current is  33\n",
      "n is  [17, 92, 18]\n",
      "[17, 92, 18]\n",
      "current is  18\n",
      "n is  [17, 92]\n",
      "[17, 92]\n",
      "current is  92\n",
      "gtn is  92\n",
      "n is  [17]\n",
      "[17]\n",
      "current is  17\n"
     ]
    },
    {
     "data": {
      "text/plain": [
       "92"
      ]
     },
     "execution_count": 69,
     "metadata": {},
     "output_type": "execute_result"
    }
   ],
   "source": [
    "find_max_recursion(v)"
   ]
  },
  {
   "cell_type": "code",
   "execution_count": 70,
   "metadata": {},
   "outputs": [
    {
     "name": "stdout",
     "output_type": "stream",
     "text": [
      "***0.2870452404022217 seconds ***\n"
     ]
    }
   ],
   "source": [
    "print(\"***%s seconds ***\" % (time.time() - start_time))"
   ]
  },
  {
   "cell_type": "code",
   "execution_count": 60,
   "metadata": {},
   "outputs": [],
   "source": [
    "ll = [4, 58, 785312, 45]"
   ]
  },
  {
   "cell_type": "code",
   "execution_count": 61,
   "metadata": {},
   "outputs": [
    {
     "name": "stdout",
     "output_type": "stream",
     "text": [
      "[4, 58, 785312, 45]\n",
      "gtn is  45\n",
      "current is  785312\n",
      "gtn is  785312\n",
      "n is  [4, 58]\n",
      "[4, 58]\n",
      "current is  58\n",
      "n is  [4]\n",
      "[4]\n",
      "current is  4\n"
     ]
    },
    {
     "data": {
      "text/plain": [
       "785312"
      ]
     },
     "execution_count": 61,
     "metadata": {},
     "output_type": "execute_result"
    }
   ],
   "source": [
    "find_max_recursion(ll)"
   ]
  },
  {
   "cell_type": "code",
   "execution_count": 62,
   "metadata": {},
   "outputs": [],
   "source": [
    "ll2 = [7, 589, 51, 63]"
   ]
  },
  {
   "cell_type": "code",
   "execution_count": 28,
   "metadata": {},
   "outputs": [
    {
     "name": "stdout",
     "output_type": "stream",
     "text": [
      "[7, 589, 51, 63]\n",
      "gtn is  63\n",
      "current is  51\n",
      "n is  [7, 589]\n",
      "[7, 589]\n",
      "current is  589\n",
      "gtn is  589\n",
      "n is  [7]\n",
      "[7]\n",
      "current is  7\n"
     ]
    },
    {
     "data": {
      "text/plain": [
       "589"
      ]
     },
     "execution_count": 28,
     "metadata": {},
     "output_type": "execute_result"
    }
   ],
   "source": [
    "find_max_recursion(ll2)"
   ]
  },
  {
   "cell_type": "markdown",
   "metadata": {},
   "source": [
    "### 최대공약수 찾기"
   ]
  },
  {
   "cell_type": "code",
   "execution_count": 29,
   "metadata": {},
   "outputs": [],
   "source": [
    "def greatest_common_divisor(n1, n2):\n",
    "    i = min(n1, n2)\n",
    "    while(i > 0):\n",
    "        if n1 % i == 0 and n2 % i == 0:\n",
    "            return i\n",
    "        i -= 1"
   ]
  },
  {
   "cell_type": "code",
   "execution_count": 30,
   "metadata": {},
   "outputs": [],
   "source": [
    "def greatest_common_divisor2(n1, n2):\n",
    "    i = 0\n",
    "    if n1 < n2:\n",
    "        i = n1\n",
    "    else:\n",
    "        i = n2\n",
    "    while(i > 0):\n",
    "        if n1 % i == 0 and n2 % i == 0:\n",
    "            return i\n",
    "        i -= 1"
   ]
  },
  {
   "cell_type": "code",
   "execution_count": 31,
   "metadata": {},
   "outputs": [
    {
     "data": {
      "text/plain": [
       "2"
      ]
     },
     "execution_count": 31,
     "metadata": {},
     "output_type": "execute_result"
    },
    {
     "data": {
      "text/plain": [
       "1"
      ]
     },
     "execution_count": 31,
     "metadata": {},
     "output_type": "execute_result"
    },
    {
     "data": {
      "text/plain": [
       "3"
      ]
     },
     "execution_count": 31,
     "metadata": {},
     "output_type": "execute_result"
    },
    {
     "data": {
      "text/plain": [
       "12"
      ]
     },
     "execution_count": 31,
     "metadata": {},
     "output_type": "execute_result"
    },
    {
     "data": {
      "text/plain": [
       "27"
      ]
     },
     "execution_count": 31,
     "metadata": {},
     "output_type": "execute_result"
    }
   ],
   "source": [
    "greatest_common_divisor(4, 6)\n",
    "greatest_common_divisor(1, 5)\n",
    "greatest_common_divisor(3, 6)\n",
    "greatest_common_divisor(60, 24)\n",
    "greatest_common_divisor(81, 27)"
   ]
  },
  {
   "cell_type": "code",
   "execution_count": 32,
   "metadata": {},
   "outputs": [
    {
     "data": {
      "text/plain": [
       "2"
      ]
     },
     "execution_count": 32,
     "metadata": {},
     "output_type": "execute_result"
    },
    {
     "data": {
      "text/plain": [
       "1"
      ]
     },
     "execution_count": 32,
     "metadata": {},
     "output_type": "execute_result"
    },
    {
     "data": {
      "text/plain": [
       "3"
      ]
     },
     "execution_count": 32,
     "metadata": {},
     "output_type": "execute_result"
    },
    {
     "data": {
      "text/plain": [
       "12"
      ]
     },
     "execution_count": 32,
     "metadata": {},
     "output_type": "execute_result"
    },
    {
     "data": {
      "text/plain": [
       "27"
      ]
     },
     "execution_count": 32,
     "metadata": {},
     "output_type": "execute_result"
    }
   ],
   "source": [
    "greatest_common_divisor2(4, 6)\n",
    "greatest_common_divisor2(1, 5)\n",
    "greatest_common_divisor2(3, 6)\n",
    "greatest_common_divisor2(60, 24)\n",
    "greatest_common_divisor2(81, 27)"
   ]
  },
  {
   "cell_type": "code",
   "execution_count": 33,
   "metadata": {},
   "outputs": [],
   "source": [
    "def gcd_book(a, b):\n",
    "    i = min(a, b)\n",
    "    while True:\n",
    "        if a % i == 0 and b % i == 0:\n",
    "            return i\n",
    "        i = i - 1"
   ]
  },
  {
   "cell_type": "code",
   "execution_count": 34,
   "metadata": {},
   "outputs": [
    {
     "data": {
      "text/plain": [
       "2"
      ]
     },
     "execution_count": 34,
     "metadata": {},
     "output_type": "execute_result"
    },
    {
     "data": {
      "text/plain": [
       "27"
      ]
     },
     "execution_count": 34,
     "metadata": {},
     "output_type": "execute_result"
    }
   ],
   "source": [
    "gcd_book(4, 6)\n",
    "gcd_book(81, 27)"
   ]
  },
  {
   "cell_type": "code",
   "execution_count": 35,
   "metadata": {},
   "outputs": [],
   "source": [
    "def gcd_euclid_book(a, b):\n",
    "    print(\"gcd_euclid_book: \", a, b)\n",
    "    if b == 0:\n",
    "        return a\n",
    "    return gcd_euclid_book(b, a % b) "
   ]
  },
  {
   "cell_type": "code",
   "execution_count": 36,
   "metadata": {},
   "outputs": [
    {
     "name": "stdout",
     "output_type": "stream",
     "text": [
      "gcd_euclid_book:  4 6\n",
      "gcd_euclid_book:  6 4\n",
      "gcd_euclid_book:  4 2\n",
      "gcd_euclid_book:  2 0\n"
     ]
    },
    {
     "data": {
      "text/plain": [
       "2"
      ]
     },
     "execution_count": 36,
     "metadata": {},
     "output_type": "execute_result"
    },
    {
     "name": "stdout",
     "output_type": "stream",
     "text": [
      "gcd_euclid_book:  81 27\n",
      "gcd_euclid_book:  27 0\n"
     ]
    },
    {
     "data": {
      "text/plain": [
       "27"
      ]
     },
     "execution_count": 36,
     "metadata": {},
     "output_type": "execute_result"
    },
    {
     "name": "stdout",
     "output_type": "stream",
     "text": [
      "gcd_euclid_book:  60 24\n",
      "gcd_euclid_book:  24 12\n",
      "gcd_euclid_book:  12 0\n"
     ]
    },
    {
     "data": {
      "text/plain": [
       "12"
      ]
     },
     "execution_count": 36,
     "metadata": {},
     "output_type": "execute_result"
    }
   ],
   "source": [
    "gcd_euclid_book(4, 6)\n",
    "gcd_euclid_book(81, 27)\n",
    "gcd_euclid_book(60, 24)"
   ]
  },
  {
   "cell_type": "markdown",
   "metadata": {},
   "source": [
    "### 연습문제\n",
    "#### 5-1.  0과 1부터 시작해서 바로 앞의 두 수를 더한 값을 다음 값으로 추가하는 방식으로 만든 수열을 피보나치 수열이라고 합니다. 즉, 0+1=1, 1+1=2, 1+2=3이므로 피보나치 수열은 다음과 같습니다. 0, 1, 1, 2, 3, 5, 8, 13, 21, 34, 55 …피보나치 수열이 파이썬의 리스트처럼 0번부터 시작한다고 가정할 때 n번째 피보나치 수를 구하는 알고리즘을 재귀 호출을 이용해서 구현해 보세요(힌트: 7번 값 = 5번 값 + 6번 값)"
   ]
  },
  {
   "cell_type": "code",
   "execution_count": 37,
   "metadata": {},
   "outputs": [],
   "source": [
    "def fibonacci(n):\n",
    "    print(\"n : \", n)\n",
    "    if n == 0:\n",
    "        return 0\n",
    "    elif n == 1:\n",
    "        return 1\n",
    "    return fibonacci(n-1) + fibonacci(n-2)"
   ]
  },
  {
   "cell_type": "code",
   "execution_count": 38,
   "metadata": {},
   "outputs": [
    {
     "name": "stdout",
     "output_type": "stream",
     "text": [
      "n :  5\n",
      "n :  4\n",
      "n :  3\n",
      "n :  2\n",
      "n :  1\n",
      "n :  0\n",
      "n :  1\n",
      "n :  2\n",
      "n :  1\n",
      "n :  0\n",
      "n :  3\n",
      "n :  2\n",
      "n :  1\n",
      "n :  0\n",
      "n :  1\n"
     ]
    },
    {
     "data": {
      "text/plain": [
       "5"
      ]
     },
     "execution_count": 38,
     "metadata": {},
     "output_type": "execute_result"
    }
   ],
   "source": [
    "fibonacci(5)"
   ]
  },
  {
   "cell_type": "markdown",
   "metadata": {},
   "source": [
    "### 하노이의 탑 옯기기"
   ]
  },
  {
   "cell_type": "code",
   "execution_count": 39,
   "metadata": {},
   "outputs": [],
   "source": [
    "def hanoi(n, from_pos, to_pos, aux_pos):\n",
    "    if n == 1:\n",
    "        print(from_pos, \" -> \", to_pos)\n",
    "        return\n",
    "    \n",
    "    hanoi(n - 1, from_pos, aux_pos, to_pos)\n",
    "    print(from_pos, \" -> \", to_pos)\n",
    "    \n",
    "    hanoi(n-1, aux_pos, to_pos, from_pos)"
   ]
  },
  {
   "cell_type": "code",
   "execution_count": 40,
   "metadata": {},
   "outputs": [
    {
     "name": "stdout",
     "output_type": "stream",
     "text": [
      "n = 1\n",
      "1  ->  3\n",
      "n = 2\n",
      "1  ->  2\n",
      "1  ->  3\n",
      "2  ->  3\n",
      "n = 3\n",
      "1  ->  3\n",
      "1  ->  2\n",
      "3  ->  2\n",
      "1  ->  3\n",
      "2  ->  1\n",
      "2  ->  3\n",
      "1  ->  3\n"
     ]
    }
   ],
   "source": [
    "print(\"n = 1\")\n",
    "hanoi(1, 1, 3, 2)\n",
    "\n",
    "print(\"n = 2\")\n",
    "hanoi(2, 1, 3, 2)\n",
    "\n",
    "print(\"n = 3\")\n",
    "hanoi(3, 1, 3, 2) #"
   ]
  },
  {
   "cell_type": "code",
   "execution_count": 41,
   "metadata": {},
   "outputs": [
    {
     "name": "stdout",
     "output_type": "stream",
     "text": [
      "n = 5\n",
      "1  ->  3\n",
      "1  ->  2\n",
      "3  ->  2\n",
      "1  ->  3\n",
      "2  ->  1\n",
      "2  ->  3\n",
      "1  ->  3\n",
      "1  ->  2\n",
      "3  ->  2\n",
      "3  ->  1\n",
      "2  ->  1\n",
      "3  ->  2\n",
      "1  ->  3\n",
      "1  ->  2\n",
      "3  ->  2\n",
      "1  ->  3\n",
      "2  ->  1\n",
      "2  ->  3\n",
      "1  ->  3\n",
      "2  ->  1\n",
      "3  ->  2\n",
      "3  ->  1\n",
      "2  ->  1\n",
      "2  ->  3\n",
      "1  ->  3\n",
      "1  ->  2\n",
      "3  ->  2\n",
      "1  ->  3\n",
      "2  ->  1\n",
      "2  ->  3\n",
      "1  ->  3\n"
     ]
    }
   ],
   "source": [
    "print(\"n = 5\")\n",
    "hanoi(5, 1, 3, 2)"
   ]
  },
  {
   "cell_type": "markdown",
   "metadata": {},
   "source": [
    "### 재귀호출을 이용한 그림그리기"
   ]
  },
  {
   "cell_type": "code",
   "execution_count": 42,
   "metadata": {},
   "outputs": [],
   "source": [
    "import turtle as t"
   ]
  },
  {
   "cell_type": "code",
   "execution_count": 43,
   "metadata": {},
   "outputs": [],
   "source": [
    "def spiral(sp_len):\n",
    "    if sp_len <= 5:\n",
    "        return\n",
    "    t.forward(sp_len)\n",
    "    t.right(90)\n",
    "    spiral(sp_len - 5)"
   ]
  },
  {
   "cell_type": "code",
   "execution_count": 44,
   "metadata": {},
   "outputs": [],
   "source": [
    "t.speed(0)\n",
    "spiral(200)\n",
    "t.hideturtle()\n",
    "t.done()"
   ]
  },
  {
   "cell_type": "code",
   "execution_count": 47,
   "metadata": {},
   "outputs": [],
   "source": [
    "def tri(tri_len):\n",
    "    if tri_len <= 10:\n",
    "        for i in range(0, 3):\n",
    "            t.forward(tri_len)\n",
    "            t.left(120)\n",
    "        return\n",
    "\n",
    "    new_len = tri_len / 2\n",
    "    tri(new_len)\n",
    "    t.forward(new_len)\n",
    "    tri(new_len)\n",
    "    t.backward(new_len)\n",
    "    t.left(60)\n",
    "    t.forward(new_len)\n",
    "    t.right(60)\n",
    "    tri(new_len)\n",
    "    t.left(60)\n",
    "    t.backward(new_len)\n",
    "    t.right(60)"
   ]
  },
  {
   "cell_type": "code",
   "execution_count": 49,
   "metadata": {},
   "outputs": [],
   "source": [
    "t.speed(0)\n",
    "tri(160)\n",
    "t.hideturtle()\n",
    "t.done()"
   ]
  },
  {
   "cell_type": "code",
   "execution_count": 50,
   "metadata": {},
   "outputs": [],
   "source": [
    "def tree(br_len):\n",
    "    if br_len <= 5:\n",
    "        return\n",
    "    new_len = br_len * 0.7\n",
    "    t.forward(br_len)\n",
    "    t.right(20)\n",
    "    tree(new_len)\n",
    "    t.left(40)\n",
    "    tree(new_len)\n",
    "    t.right(20)\n",
    "    t.backward(br_len)"
   ]
  },
  {
   "cell_type": "code",
   "execution_count": 52,
   "metadata": {},
   "outputs": [],
   "source": [
    "t.speed(0)\n",
    "t.left(90)\n",
    "tree(70)\n",
    "t.hideturtle()\n",
    "t.done()"
   ]
  },
  {
   "cell_type": "code",
   "execution_count": 53,
   "metadata": {},
   "outputs": [],
   "source": [
    "def snow_line(snow_len):\n",
    "    if snow_len <= 10:\n",
    "        t.forward(snow_len)\n",
    "        return\n",
    "    new_len = snow_len / 3\n",
    "    snow_line(new_len)\n",
    "    t.left(60)\n",
    "    snow_line(new_len)\n",
    "    t.right(120)\n",
    "    snow_line(new_len)\n",
    "    t.left(60)\n",
    "    snow_line(new_len)"
   ]
  },
  {
   "cell_type": "code",
   "execution_count": 55,
   "metadata": {},
   "outputs": [],
   "source": [
    "t.speed(0)\n",
    "snow_line(150)\n",
    "t.right(120)\n",
    "snow_line(150)\n",
    "t.right(120)\n",
    "snow_line(150)\n",
    "t.hideturtle()\n",
    "t.done()"
   ]
  },
  {
   "cell_type": "code",
   "execution_count": null,
   "metadata": {},
   "outputs": [],
   "source": []
  },
  {
   "cell_type": "code",
   "execution_count": null,
   "metadata": {},
   "outputs": [],
   "source": []
  },
  {
   "cell_type": "code",
   "execution_count": null,
   "metadata": {},
   "outputs": [],
   "source": []
  },
  {
   "cell_type": "code",
   "execution_count": null,
   "metadata": {},
   "outputs": [],
   "source": []
  },
  {
   "cell_type": "code",
   "execution_count": null,
   "metadata": {},
   "outputs": [],
   "source": []
  },
  {
   "cell_type": "code",
   "execution_count": null,
   "metadata": {},
   "outputs": [],
   "source": []
  },
  {
   "cell_type": "code",
   "execution_count": null,
   "metadata": {},
   "outputs": [],
   "source": []
  },
  {
   "cell_type": "code",
   "execution_count": null,
   "metadata": {},
   "outputs": [],
   "source": []
  },
  {
   "cell_type": "code",
   "execution_count": null,
   "metadata": {},
   "outputs": [],
   "source": []
  },
  {
   "cell_type": "code",
   "execution_count": null,
   "metadata": {},
   "outputs": [],
   "source": []
  },
  {
   "cell_type": "code",
   "execution_count": null,
   "metadata": {},
   "outputs": [],
   "source": []
  }
 ],
 "metadata": {
  "kernelspec": {
   "display_name": "Python 3",
   "language": "python",
   "name": "python3"
  },
  "language_info": {
   "codemirror_mode": {
    "name": "ipython",
    "version": 3
   },
   "file_extension": ".py",
   "mimetype": "text/x-python",
   "name": "python",
   "nbconvert_exporter": "python",
   "pygments_lexer": "ipython3",
   "version": "3.6.5"
  }
 },
 "nbformat": 4,
 "nbformat_minor": 2
}
