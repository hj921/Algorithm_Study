{
 "cells": [
  {
   "cell_type": "code",
   "execution_count": 4,
   "metadata": {},
   "outputs": [],
   "source": [
    "from IPython.core.interactiveshell import InteractiveShell\n",
    "InteractiveShell.ast_node_interactivity = 'all'"
   ]
  },
  {
   "cell_type": "markdown",
   "metadata": {},
   "source": [
    "# 셋째 마당 정렬과 탐색"
   ]
  },
  {
   "cell_type": "markdown",
   "metadata": {},
   "source": [
    "### 07 순차탐색"
   ]
  },
  {
   "cell_type": "code",
   "execution_count": 16,
   "metadata": {},
   "outputs": [],
   "source": [
    "def sequence_search(l, n):\n",
    "    lg = len(l)\n",
    "    for i in range(0, lg):\n",
    "        if l[i] == n:\n",
    "            return i\n",
    "    return -1"
   ]
  },
  {
   "cell_type": "code",
   "execution_count": 17,
   "metadata": {},
   "outputs": [],
   "source": [
    "a = [4, 56, 75, 587, 1]"
   ]
  },
  {
   "cell_type": "code",
   "execution_count": 19,
   "metadata": {},
   "outputs": [
    {
     "data": {
      "text/plain": [
       "2"
      ]
     },
     "execution_count": 19,
     "metadata": {},
     "output_type": "execute_result"
    }
   ],
   "source": [
    "sequence_search(a, 75)"
   ]
  },
  {
   "cell_type": "code",
   "execution_count": 20,
   "metadata": {},
   "outputs": [],
   "source": [
    "v = [17, 92, 18, 33, 58, 5, 33, 42]"
   ]
  },
  {
   "cell_type": "code",
   "execution_count": 21,
   "metadata": {},
   "outputs": [
    {
     "data": {
      "text/plain": [
       "-1"
      ]
     },
     "execution_count": 21,
     "metadata": {},
     "output_type": "execute_result"
    },
    {
     "data": {
      "text/plain": [
       "2"
      ]
     },
     "execution_count": 21,
     "metadata": {},
     "output_type": "execute_result"
    },
    {
     "data": {
      "text/plain": [
       "3"
      ]
     },
     "execution_count": 21,
     "metadata": {},
     "output_type": "execute_result"
    },
    {
     "data": {
      "text/plain": [
       "-1"
      ]
     },
     "execution_count": 21,
     "metadata": {},
     "output_type": "execute_result"
    }
   ],
   "source": [
    "sequence_search(v, 83)\n",
    "sequence_search(v, 18)\n",
    "sequence_search(v, 33)\n",
    "sequence_search(v, 900)"
   ]
  },
  {
   "cell_type": "markdown",
   "metadata": {},
   "source": [
    "### 연습문제\n",
    "#### 7-1. 프로그램 7-1은 리스트에 찾는 값이 여러 개 있더라도 첫 번째 위치만 되돌려 줍니다. 찾는 값이 나오는 모든 위치를 리스트로 돌려주는 탐색 알고리즘을 만들어 보세요. 찾는 값이 리스트에 없다면 빈 리스트인 []을 돌려줍니다."
   ]
  },
  {
   "cell_type": "code",
   "execution_count": 22,
   "metadata": {},
   "outputs": [],
   "source": [
    "def seq_search_list(in_l, find_l):\n",
    "    result = []\n",
    "    n = len(find_l)\n",
    "    for i in range(0, n):\n",
    "        if find_l[i] in in_l:\n",
    "            result.append(in_l.index(find_l[i]))\n",
    "        else:\n",
    "            pass\n",
    "    return result"
   ]
  },
  {
   "cell_type": "code",
   "execution_count": 23,
   "metadata": {},
   "outputs": [
    {
     "data": {
      "text/plain": [
       "[2, 3]"
      ]
     },
     "execution_count": 23,
     "metadata": {},
     "output_type": "execute_result"
    }
   ],
   "source": [
    "v = [17, 92, 18, 33, 58, 5, 33, 42]\n",
    "seq_search_list(v, [83, 18, 33, 900])"
   ]
  },
  {
   "cell_type": "markdown",
   "metadata": {},
   "source": [
    "#### 7-2. 연습문제 7-1 프로그램의 계산 복잡도는 무엇일까요?\n",
    "> O(n)"
   ]
  },
  {
   "cell_type": "markdown",
   "metadata": {},
   "source": [
    "#### 7-3. 다음과 같이 학생 번호와 이름이 리스트로 주어졌을 때 학생 번호를 입력하면 학생 번호에 해당하는 이름을 순차 탐색으로 찾아 돌려주는 함수를 만들어 보세요. 해당하는 학생 번호가 없으면 물음표(?)를 돌려줍니다. 참고로 학생 번호가 39번이면 “Justin”, 14번이면 “John”을 돌려줍니다."
   ]
  },
  {
   "cell_type": "code",
   "execution_count": 24,
   "metadata": {},
   "outputs": [],
   "source": [
    "stu_no = [39, 14, 67, 105]\n",
    "stu_name = ['Justin', 'John', 'Mike', 'Summer']"
   ]
  },
  {
   "cell_type": "code",
   "execution_count": 25,
   "metadata": {},
   "outputs": [],
   "source": [
    "# def find_stu_name(no):\n",
    "#     no_n = len(stu_no)\n",
    "#     name_n = len(stu_name)\n",
    "#     for i in range(0, no_n):"
   ]
  },
  {
   "cell_type": "markdown",
   "metadata": {},
   "source": [
    "### 08 선택정렬"
   ]
  },
  {
   "cell_type": "code",
   "execution_count": 27,
   "metadata": {},
   "outputs": [],
   "source": [
    "def selection_sort(lst):\n",
    "    n = len(lst)\n",
    "    result = []\n",
    "    for i in range(0, n):\n",
    "        m = lst.pop(lst.index(min(lst)))\n",
    "        result.append(m)\n",
    "    return result"
   ]
  },
  {
   "cell_type": "code",
   "execution_count": 43,
   "metadata": {},
   "outputs": [],
   "source": [
    "def find_min(lst):\n",
    "    n = len(lst)\n",
    "    tmp = 0\n",
    "    for i in range(1, n):\n",
    "        if lst[i] < lst[tmp]:\n",
    "            tmp = i\n",
    "    return tmp"
   ]
  },
  {
   "cell_type": "code",
   "execution_count": 44,
   "metadata": {},
   "outputs": [],
   "source": [
    "def selection_sort_book(lst):\n",
    "    result = []\n",
    "    while lst:\n",
    "        idx = find_min(lst)\n",
    "        value = lst.pop(idx)\n",
    "        result.append(value)\n",
    "    return result"
   ]
  },
  {
   "cell_type": "code",
   "execution_count": 45,
   "metadata": {},
   "outputs": [],
   "source": [
    "v = [35, 9, 2, 85, 17]"
   ]
  },
  {
   "cell_type": "code",
   "execution_count": 46,
   "metadata": {},
   "outputs": [
    {
     "data": {
      "text/plain": [
       "[2, 9, 17, 35, 85]"
      ]
     },
     "execution_count": 46,
     "metadata": {},
     "output_type": "execute_result"
    }
   ],
   "source": [
    "selection_sort(v)"
   ]
  },
  {
   "cell_type": "code",
   "execution_count": 47,
   "metadata": {},
   "outputs": [],
   "source": [
    "v = [35, 9, 2, 85, 17]"
   ]
  },
  {
   "cell_type": "code",
   "execution_count": 48,
   "metadata": {},
   "outputs": [
    {
     "data": {
      "text/plain": [
       "[2, 9, 17, 35, 85]"
      ]
     },
     "execution_count": 48,
     "metadata": {},
     "output_type": "execute_result"
    }
   ],
   "source": [
    "selection_sort_book(v)"
   ]
  },
  {
   "cell_type": "code",
   "execution_count": 49,
   "metadata": {},
   "outputs": [],
   "source": [
    "def sel_sort_book(lst):\n",
    "    n = len(lst)\n",
    "    for i in range(0, n - 1):\n",
    "        min_idx = i\n",
    "        for j in range(i+1, n):\n",
    "            if lst[j] < lst[min_idx]:\n",
    "                min_idx = j\n",
    "            lst[i], lst[min_idx] = lst[min_idx], lst[i]"
   ]
  },
  {
   "cell_type": "code",
   "execution_count": 50,
   "metadata": {},
   "outputs": [],
   "source": [
    "d = [2, 4, 5, 1, 3]"
   ]
  },
  {
   "cell_type": "code",
   "execution_count": 53,
   "metadata": {},
   "outputs": [
    {
     "name": "stdout",
     "output_type": "stream",
     "text": [
      "[1, 2, 3, 4, 5]\n"
     ]
    }
   ],
   "source": [
    "sel_sort_book(d)\n",
    "print(d)"
   ]
  },
  {
   "cell_type": "code",
   "execution_count": 54,
   "metadata": {},
   "outputs": [],
   "source": [
    "# 수정 및 다시 생각\n",
    "# def sel_sort(lst):\n",
    "#     n = len(lst)\n",
    "#     idx = []\n",
    "#     for i in range(0, n):\n",
    "#         min_idx = lst.index(min(lst))\n",
    "#         idx.append(min_idx)\n",
    "#         lst.insert(idx[i], lst[min_idx])"
   ]
  },
  {
   "cell_type": "markdown",
   "metadata": {},
   "source": [
    "### 연습문제"
   ]
  },
  {
   "cell_type": "markdown",
   "metadata": {},
   "source": [
    "#### 8-1. 일반적인 선택 정렬 알고리즘을 사용해서 리스트 [2, 4, 5, 1, 3]을 정렬하는 과정을 적어보세요"
   ]
  },
  {
   "cell_type": "markdown",
   "metadata": {},
   "source": [
    "> 대상 범위 내의 최솟값을 찾아서 범위 맨 탚에 있는 값을 바꾸는 과정을 반복하는 것. 과정 한 번 종료될 때 마다 대상 범위에서 맨 앞의 값은 제외.\n",
    "0. [2, 4, 5, 1, 3] 에서 최솟값을 찾는다. -> 1\n",
    "1. [1, 4, 5, 2, 3] 1과 2의 자리를 바꾼다. (1을 맨 앞 위치로 이동)\n",
    "2. [1| 4, 5, 2, 3] 1을 제외한 나머지 값들 중에서 최솟값을 찾는다. -> 2\n",
    "3. [1, 2, 5, 4, 3] 2와 4의 자리를 바꾼다.(2를 대상 범위 맨 앞 위치로 이동)\n",
    "4. [1, 2| 5, 4, 3] 정렬이 끝난 1과 2를 제외한 나머지 값들 중에서 최솟값 찾는다. -> 3\n",
    "5. [1, 2, 3, 5, 4] 3과 5의 자리를 바꾼다.(3을 대상 범위 맨 앞 위치로 이동)\n",
    "6. [1, 2, 3| 5, 4] 정렬이 끝난 3까지를 제외한 나머지 값 중에서 최솟값을 찾는다. -> 4\n",
    "7. [1, 2, 3, 4, 5] 4와 5의 자리를 바꾼다.(4를 대상 범위 맨 앞으로 이동)\n",
    "8. [1, 2, 3, 4| 5] 대상 범위가 5 히나만 남은 관계로 종료"
   ]
  },
  {
   "cell_type": "markdown",
   "metadata": {},
   "source": [
    "#### 8-2. 프로그램 8-1과 8-2의 정렬 알고리즘은 숫자를 작은 수에서 큰 수 순서로 나열하는 오름차순 정렬이었습니다. 이 알고리즘을 큰 수에서 작은 수 순서로 나열하는 내림차순 정렬로 바꾸려면 프로그램의 어느 부분을 바꿔야 할까요?"
   ]
  },
  {
   "cell_type": "markdown",
   "metadata": {},
   "source": [
    "> 대상 범위 내에서 최솟값이 아닌 최댓값을 찾으면 된다."
   ]
  },
  {
   "cell_type": "code",
   "execution_count": 55,
   "metadata": {},
   "outputs": [],
   "source": [
    "def sel_d_sort(lst):\n",
    "    n = len(lst)\n",
    "    for i in range(0, n - 1):\n",
    "        max_idx = i\n",
    "        for j in range(i+1, n):\n",
    "            if lst[j] > lst[max_idx]:\n",
    "                max_idx = j\n",
    "            lst[i], lst[max_idx] = lst[max_idx], lst[i]"
   ]
  },
  {
   "cell_type": "code",
   "execution_count": 56,
   "metadata": {},
   "outputs": [],
   "source": [
    "d = [2, 4, 5, 1, 3]"
   ]
  },
  {
   "cell_type": "code",
   "execution_count": 57,
   "metadata": {},
   "outputs": [],
   "source": [
    "sel_d_sort(d)"
   ]
  },
  {
   "cell_type": "code",
   "execution_count": 59,
   "metadata": {},
   "outputs": [
    {
     "name": "stdout",
     "output_type": "stream",
     "text": [
      "[5, 4, 3, 2, 1]\n"
     ]
    }
   ],
   "source": [
    "print(d)"
   ]
  },
  {
   "cell_type": "markdown",
   "metadata": {},
   "source": [
    "### 09 삽입정렬"
   ]
  },
  {
   "cell_type": "code",
   "execution_count": 62,
   "metadata": {},
   "outputs": [],
   "source": [
    "# 책과 함께합니다..\n",
    "def find_ins_idx(lst, value):\n",
    "    n = len(lst)\n",
    "    for i in range(0, n):\n",
    "        if value < lst[i]:\n",
    "            return i\n",
    "    return n\n",
    "\n",
    "def insert_sort(in_lst):\n",
    "    result = []\n",
    "    while in_lst:\n",
    "        in_value = in_lst.pop(0)\n",
    "        find_idx = find_ins_idx(result, in_value)\n",
    "        result.insert(find_idx, in_value)\n",
    "        print(in_lst, result)\n",
    "    return result"
   ]
  },
  {
   "cell_type": "code",
   "execution_count": 63,
   "metadata": {},
   "outputs": [],
   "source": [
    "d = [2, 4, 5, 1, 3]"
   ]
  },
  {
   "cell_type": "code",
   "execution_count": 64,
   "metadata": {},
   "outputs": [
    {
     "name": "stdout",
     "output_type": "stream",
     "text": [
      "[4, 5, 1, 3] [2]\n",
      "[5, 1, 3] [2, 4]\n",
      "[1, 3] [2, 4, 5]\n",
      "[3] [1, 2, 4, 5]\n",
      "[] [1, 2, 3, 4, 5]\n"
     ]
    },
    {
     "data": {
      "text/plain": [
       "[1, 2, 3, 4, 5]"
      ]
     },
     "execution_count": 64,
     "metadata": {},
     "output_type": "execute_result"
    }
   ],
   "source": [
    "insert_sort(d)"
   ]
  },
  {
   "cell_type": "code",
   "execution_count": 65,
   "metadata": {},
   "outputs": [],
   "source": [
    "def insert_sort(lst):\n",
    "    n = len(lst)\n",
    "    for i in range(1, n):\n",
    "        print(\"===================\")\n",
    "        key = lst[i]\n",
    "        j = i - 1\n",
    "        print(\"key is \", key)\n",
    "        print(\"j is \", j)\n",
    "        while j >= 0 and lst[j] > key:\n",
    "            lst[j+1] = lst[j]\n",
    "            print(\"lst is \", lst)\n",
    "            j -= 1\n",
    "            print(\"j is \", j)\n",
    "        lst[j + 1] = key\n",
    "        print(\"lst is \", lst)"
   ]
  },
  {
   "cell_type": "code",
   "execution_count": 66,
   "metadata": {},
   "outputs": [],
   "source": [
    "d = [2, 4, 5, 1, 3]"
   ]
  },
  {
   "cell_type": "code",
   "execution_count": 67,
   "metadata": {},
   "outputs": [
    {
     "name": "stdout",
     "output_type": "stream",
     "text": [
      "===================\n",
      "key is  4\n",
      "j is  0\n",
      "lst is  [2, 4, 5, 1, 3]\n",
      "===================\n",
      "key is  5\n",
      "j is  1\n",
      "lst is  [2, 4, 5, 1, 3]\n",
      "===================\n",
      "key is  1\n",
      "j is  2\n",
      "lst is  [2, 4, 5, 5, 3]\n",
      "j is  1\n",
      "lst is  [2, 4, 4, 5, 3]\n",
      "j is  0\n",
      "lst is  [2, 2, 4, 5, 3]\n",
      "j is  -1\n",
      "lst is  [1, 2, 4, 5, 3]\n",
      "===================\n",
      "key is  3\n",
      "j is  3\n",
      "lst is  [1, 2, 4, 5, 5]\n",
      "j is  2\n",
      "lst is  [1, 2, 4, 4, 5]\n",
      "j is  1\n",
      "lst is  [1, 2, 3, 4, 5]\n"
     ]
    }
   ],
   "source": [
    "insert_sort(d)"
   ]
  },
  {
   "cell_type": "code",
   "execution_count": 68,
   "metadata": {},
   "outputs": [
    {
     "name": "stdout",
     "output_type": "stream",
     "text": [
      "[1, 2, 3, 4, 5]\n"
     ]
    }
   ],
   "source": [
    "print(d)"
   ]
  },
  {
   "cell_type": "markdown",
   "metadata": {},
   "source": [
    "### 연습문제"
   ]
  },
  {
   "cell_type": "markdown",
   "metadata": {},
   "source": [
    "#### 9-1. 일반적인 삽입 정렬 알고리즘을 사용해서 리스트 [2, 4, 5, 1, 3]을 정렬하는 과정을 적어보세요."
   ]
  },
  {
   "cell_type": "markdown",
   "metadata": {},
   "source": [
    "> 대상 범위 맨 앞 값을 적절한 자리에 넣는 과정을 반복. 한 번의 과정이 종료되면 맨 앞 값은 정렬된 값이므로 대상 범위는 하나씩 줄어든다.\n",
    "0. [2, 4, 5, 1, 3] 2와 4를 비교. 2가 더 작은 수이므로 그대로.\n",
    "1. [2, 4, 5, 1, 3] 2, 4와 5를 비교. 2보다 크고 4보다 큰 수 이므로 위치 그대로.\n",
    "2. [1, 2, 4, 5, 3] 2와 1을 비교. 1이 더 작은 수이고. 4, 5보다도 작은 수 이므로 맨 앞에 삽입\n",
    "3. [1, 2, 3, 4, 5] 2와 3 비교. 2보다는 크고 4, 5 보다는 작으므로 4, 5 앞 위치로 삽입."
   ]
  },
  {
   "cell_type": "markdown",
   "metadata": {},
   "source": [
    "#### 9-2. 문제 9에서 설명한 정렬 알고리즘은 숫자를 작은 수에서 큰 수 순서로 나열하는 오름차순 정렬이었습니다. 이를 큰 수에서 작은 수 순서로 나열하는 내림차순 정렬로 바꾸려면 프로그램의 어느 부분을 바꿔야 할까요?\n",
    "> 작은 수에서 큰 수 정렬 알고리즘에서 비교 부분 대소 방향을 바꾸면 됩니다."
   ]
  },
  {
   "cell_type": "code",
   "execution_count": 69,
   "metadata": {},
   "outputs": [],
   "source": [
    "def insert_d_sort(lst):\n",
    "    n = len(lst)\n",
    "    for i in range(1, n):\n",
    "        key = lst[i]\n",
    "        j = i - 1\n",
    "        while j >= 0 and lst[j] < key:\n",
    "            lst[j + 1] = lst[j]\n",
    "            j -= 1\n",
    "        lst[j+1] = key"
   ]
  },
  {
   "cell_type": "code",
   "execution_count": 70,
   "metadata": {},
   "outputs": [],
   "source": [
    "d = [2, 4, 5, 1, 3]"
   ]
  },
  {
   "cell_type": "code",
   "execution_count": 71,
   "metadata": {},
   "outputs": [],
   "source": [
    "insert_d_sort(d)"
   ]
  },
  {
   "cell_type": "code",
   "execution_count": 72,
   "metadata": {},
   "outputs": [
    {
     "name": "stdout",
     "output_type": "stream",
     "text": [
      "[5, 4, 3, 2, 1]\n"
     ]
    }
   ],
   "source": [
    "print(d)"
   ]
  },
  {
   "cell_type": "markdown",
   "metadata": {},
   "source": [
    "### 10 병합정렬"
   ]
  },
  {
   "cell_type": "code",
   "execution_count": 73,
   "metadata": {},
   "outputs": [],
   "source": [
    "# 책과 함께합니다..\n",
    "def merge_sort(lst):\n",
    "    n = len(lst)\n",
    "    print(\"=============\")\n",
    "    print(\"n is \", n)\n",
    "    if n <= 1:\n",
    "        return lst\n",
    "    mid = n // 2\n",
    "    print(\"mid is \", mid)\n",
    "    group1 = merge_sort(lst[:mid])\n",
    "    group2 = merge_sort(lst[mid:])\n",
    "    \n",
    "    result = []\n",
    "    print(\"result is \", result)\n",
    "    while group1 and group2:\n",
    "        print(\"group1[0]\", group1[0])\n",
    "        print(\"group2[0]\", group2[0])\n",
    "        if group1[0] < group2[0]:\n",
    "            result.append(group1.pop(0))\n",
    "        else:\n",
    "            result.append(group2.pop(0))\n",
    "    print(\"result after while is \", result)\n",
    "    \n",
    "    while group1:\n",
    "        result.append(group1.pop(0))\n",
    "    while group2:\n",
    "        result.append(group2.pop(0))\n",
    "    print(\"final result is \", result)\n",
    "    return result"
   ]
  },
  {
   "cell_type": "code",
   "execution_count": 74,
   "metadata": {},
   "outputs": [],
   "source": [
    "d = [6, 8, 3, 9, 10, 1, 2, 4, 7, 5]"
   ]
  },
  {
   "cell_type": "code",
   "execution_count": 75,
   "metadata": {},
   "outputs": [
    {
     "name": "stdout",
     "output_type": "stream",
     "text": [
      "=============\n",
      "n is  10\n",
      "mid is  5\n",
      "=============\n",
      "n is  5\n",
      "mid is  2\n",
      "=============\n",
      "n is  2\n",
      "mid is  1\n",
      "=============\n",
      "n is  1\n",
      "=============\n",
      "n is  1\n",
      "result is  []\n",
      "group1[0] 6\n",
      "group2[0] 8\n",
      "result after while is  [6]\n",
      "final result is  [6, 8]\n",
      "=============\n",
      "n is  3\n",
      "mid is  1\n",
      "=============\n",
      "n is  1\n",
      "=============\n",
      "n is  2\n",
      "mid is  1\n",
      "=============\n",
      "n is  1\n",
      "=============\n",
      "n is  1\n",
      "result is  []\n",
      "group1[0] 9\n",
      "group2[0] 10\n",
      "result after while is  [9]\n",
      "final result is  [9, 10]\n",
      "result is  []\n",
      "group1[0] 3\n",
      "group2[0] 9\n",
      "result after while is  [3]\n",
      "final result is  [3, 9, 10]\n",
      "result is  []\n",
      "group1[0] 6\n",
      "group2[0] 3\n",
      "group1[0] 6\n",
      "group2[0] 9\n",
      "group1[0] 8\n",
      "group2[0] 9\n",
      "result after while is  [3, 6, 8]\n",
      "final result is  [3, 6, 8, 9, 10]\n",
      "=============\n",
      "n is  5\n",
      "mid is  2\n",
      "=============\n",
      "n is  2\n",
      "mid is  1\n",
      "=============\n",
      "n is  1\n",
      "=============\n",
      "n is  1\n",
      "result is  []\n",
      "group1[0] 1\n",
      "group2[0] 2\n",
      "result after while is  [1]\n",
      "final result is  [1, 2]\n",
      "=============\n",
      "n is  3\n",
      "mid is  1\n",
      "=============\n",
      "n is  1\n",
      "=============\n",
      "n is  2\n",
      "mid is  1\n",
      "=============\n",
      "n is  1\n",
      "=============\n",
      "n is  1\n",
      "result is  []\n",
      "group1[0] 7\n",
      "group2[0] 5\n",
      "result after while is  [5]\n",
      "final result is  [5, 7]\n",
      "result is  []\n",
      "group1[0] 4\n",
      "group2[0] 5\n",
      "result after while is  [4]\n",
      "final result is  [4, 5, 7]\n",
      "result is  []\n",
      "group1[0] 1\n",
      "group2[0] 4\n",
      "group1[0] 2\n",
      "group2[0] 4\n",
      "result after while is  [1, 2]\n",
      "final result is  [1, 2, 4, 5, 7]\n",
      "result is  []\n",
      "group1[0] 3\n",
      "group2[0] 1\n",
      "group1[0] 3\n",
      "group2[0] 2\n",
      "group1[0] 3\n",
      "group2[0] 4\n",
      "group1[0] 6\n",
      "group2[0] 4\n",
      "group1[0] 6\n",
      "group2[0] 5\n",
      "group1[0] 6\n",
      "group2[0] 7\n",
      "group1[0] 8\n",
      "group2[0] 7\n",
      "result after while is  [1, 2, 3, 4, 5, 6, 7]\n",
      "final result is  [1, 2, 3, 4, 5, 6, 7, 8, 9, 10]\n",
      "[1, 2, 3, 4, 5, 6, 7, 8, 9, 10]\n"
     ]
    }
   ],
   "source": [
    "print(merge_sort(d))"
   ]
  },
  {
   "cell_type": "markdown",
   "metadata": {},
   "source": [
    "#### 일반적인 병합정렬 알고리즘"
   ]
  },
  {
   "cell_type": "code",
   "execution_count": 76,
   "metadata": {},
   "outputs": [],
   "source": [
    "def general_merge_sort(lst):\n",
    "    n = len(lst)\n",
    "    if n <= 1:\n",
    "        return\n",
    "    mid = n // 2\n",
    "    print(\"mid is \", mid)\n",
    "    group1 = lst[:mid]\n",
    "    group2 = lst[mid:]\n",
    "    print(\"==============\")\n",
    "    print(\"lst is \", lst)\n",
    "    print(\"group1 is \", group1)\n",
    "    print(\"goup2 is\", group2)\n",
    "    general_merge_sort(group1)\n",
    "    general_merge_sort(group2)\n",
    "    \n",
    "    i1 = 0\n",
    "    i2 = 0\n",
    "    ilst = 0\n",
    "    print(\"**************\")\n",
    "    print(\"i1 is \", i1)\n",
    "    print(\"i2 is \", i2)\n",
    "    print(\"ilst is \", ilst)\n",
    "    \n",
    "    while i1 < len(group1) and i2 <len(group2):\n",
    "        if group1[i1] < group2[i2]:\n",
    "            lst[ilst] = group1[i1]\n",
    "            i1 += 1\n",
    "            ilst += 1\n",
    "        else:\n",
    "            lst[ilst] = group2[i2]\n",
    "            i2 += 1\n",
    "            ilst += 1\n",
    "    print(\"=*=*=*=*=*=*=*=*=*\")\n",
    "    print(\"i1 is \", i1)\n",
    "    print(\"i2 is \", i2)\n",
    "    print(\"ilst is \", ilst)\n",
    "    \n",
    "    while i1 < len(group1):\n",
    "        lst[ilst] = group1[i1]\n",
    "        i1 += 1\n",
    "        ilst += 1\n",
    "    while i2 < len(group2):\n",
    "        lst[ilst] = group2[i2]\n",
    "        i2 += 1\n",
    "        ilst += 1"
   ]
  },
  {
   "cell_type": "code",
   "execution_count": 77,
   "metadata": {},
   "outputs": [],
   "source": [
    "d = [6, 8, 3, 9, 10, 1, 2, 4, 7, 5]"
   ]
  },
  {
   "cell_type": "code",
   "execution_count": 78,
   "metadata": {},
   "outputs": [
    {
     "name": "stdout",
     "output_type": "stream",
     "text": [
      "mid is  5\n",
      "==============\n",
      "lst is  [6, 8, 3, 9, 10, 1, 2, 4, 7, 5]\n",
      "group1 is  [6, 8, 3, 9, 10]\n",
      "goup2 is [1, 2, 4, 7, 5]\n",
      "mid is  2\n",
      "==============\n",
      "lst is  [6, 8, 3, 9, 10]\n",
      "group1 is  [6, 8]\n",
      "goup2 is [3, 9, 10]\n",
      "mid is  1\n",
      "==============\n",
      "lst is  [6, 8]\n",
      "group1 is  [6]\n",
      "goup2 is [8]\n",
      "**************\n",
      "i1 is  0\n",
      "i2 is  0\n",
      "ilst is  0\n",
      "=*=*=*=*=*=*=*=*=*\n",
      "i1 is  1\n",
      "i2 is  0\n",
      "ilst is  1\n",
      "mid is  1\n",
      "==============\n",
      "lst is  [3, 9, 10]\n",
      "group1 is  [3]\n",
      "goup2 is [9, 10]\n",
      "mid is  1\n",
      "==============\n",
      "lst is  [9, 10]\n",
      "group1 is  [9]\n",
      "goup2 is [10]\n",
      "**************\n",
      "i1 is  0\n",
      "i2 is  0\n",
      "ilst is  0\n",
      "=*=*=*=*=*=*=*=*=*\n",
      "i1 is  1\n",
      "i2 is  0\n",
      "ilst is  1\n",
      "**************\n",
      "i1 is  0\n",
      "i2 is  0\n",
      "ilst is  0\n",
      "=*=*=*=*=*=*=*=*=*\n",
      "i1 is  1\n",
      "i2 is  0\n",
      "ilst is  1\n",
      "**************\n",
      "i1 is  0\n",
      "i2 is  0\n",
      "ilst is  0\n",
      "=*=*=*=*=*=*=*=*=*\n",
      "i1 is  2\n",
      "i2 is  1\n",
      "ilst is  3\n",
      "mid is  2\n",
      "==============\n",
      "lst is  [1, 2, 4, 7, 5]\n",
      "group1 is  [1, 2]\n",
      "goup2 is [4, 7, 5]\n",
      "mid is  1\n",
      "==============\n",
      "lst is  [1, 2]\n",
      "group1 is  [1]\n",
      "goup2 is [2]\n",
      "**************\n",
      "i1 is  0\n",
      "i2 is  0\n",
      "ilst is  0\n",
      "=*=*=*=*=*=*=*=*=*\n",
      "i1 is  1\n",
      "i2 is  0\n",
      "ilst is  1\n",
      "mid is  1\n",
      "==============\n",
      "lst is  [4, 7, 5]\n",
      "group1 is  [4]\n",
      "goup2 is [7, 5]\n",
      "mid is  1\n",
      "==============\n",
      "lst is  [7, 5]\n",
      "group1 is  [7]\n",
      "goup2 is [5]\n",
      "**************\n",
      "i1 is  0\n",
      "i2 is  0\n",
      "ilst is  0\n",
      "=*=*=*=*=*=*=*=*=*\n",
      "i1 is  0\n",
      "i2 is  1\n",
      "ilst is  1\n",
      "**************\n",
      "i1 is  0\n",
      "i2 is  0\n",
      "ilst is  0\n",
      "=*=*=*=*=*=*=*=*=*\n",
      "i1 is  1\n",
      "i2 is  0\n",
      "ilst is  1\n",
      "**************\n",
      "i1 is  0\n",
      "i2 is  0\n",
      "ilst is  0\n",
      "=*=*=*=*=*=*=*=*=*\n",
      "i1 is  2\n",
      "i2 is  0\n",
      "ilst is  2\n",
      "**************\n",
      "i1 is  0\n",
      "i2 is  0\n",
      "ilst is  0\n",
      "=*=*=*=*=*=*=*=*=*\n",
      "i1 is  2\n",
      "i2 is  5\n",
      "ilst is  7\n"
     ]
    }
   ],
   "source": [
    "general_merge_sort(d)"
   ]
  },
  {
   "cell_type": "code",
   "execution_count": 79,
   "metadata": {},
   "outputs": [
    {
     "name": "stdout",
     "output_type": "stream",
     "text": [
      "[1, 2, 3, 4, 5, 6, 7, 8, 9, 10]\n"
     ]
    }
   ],
   "source": [
    "print(d)"
   ]
  },
  {
   "cell_type": "markdown",
   "metadata": {},
   "source": [
    "### 연습문제"
   ]
  },
  {
   "cell_type": "markdown",
   "metadata": {},
   "source": [
    "#### 10-1. 프로그램 10-2에서 다룬 정렬 알고리즘은 숫자를 작은 수에서 큰 수 순서로 나열하는 오름차순 정렬이었습니다. 오름차순 정렬을 큰 수에서 작은 수 순서로 나열하는 내림차순 정렬로 바꾸려면 프로그램의 어느 부분을 바꿔야 할까요?\n",
    "> 대소비교 방향을 바꾼다"
   ]
  },
  {
   "cell_type": "code",
   "execution_count": 80,
   "metadata": {},
   "outputs": [],
   "source": [
    "def merge_g_sort(lst):\n",
    "    n = len(lst)\n",
    "    print(\"=============\")\n",
    "    print(\"n is \", n)\n",
    "    if n <= 1:\n",
    "        return lst\n",
    "    mid = n // 2\n",
    "    print(\"mid is \", mid)\n",
    "    group1 = merge_g_sort(lst[:mid])\n",
    "    group2 = merge_g_sort(lst[mid:])\n",
    "    \n",
    "    result = []\n",
    "    print(\"result is \", result)\n",
    "    while group1 and group2:\n",
    "        print(\"group1[0]\", group1[0])\n",
    "        print(\"group2[0]\", group2[0])\n",
    "        if group1[0] > group2[0]:\n",
    "            result.append(group1.pop(0))\n",
    "        else:\n",
    "            result.append(group2.pop(0))\n",
    "    print(\"result after while is \", result)\n",
    "    \n",
    "    while group1:\n",
    "        result.append(group1.pop(0))\n",
    "    while group2:\n",
    "        result.append(group2.pop(0))\n",
    "    print(\"final result is \", result)\n",
    "    return result"
   ]
  },
  {
   "cell_type": "code",
   "execution_count": 81,
   "metadata": {},
   "outputs": [
    {
     "name": "stdout",
     "output_type": "stream",
     "text": [
      "=============\n",
      "n is  10\n",
      "mid is  5\n",
      "=============\n",
      "n is  5\n",
      "mid is  2\n",
      "=============\n",
      "n is  2\n",
      "mid is  1\n",
      "=============\n",
      "n is  1\n",
      "=============\n",
      "n is  1\n",
      "result is  []\n",
      "group1[0] 1\n",
      "group2[0] 2\n",
      "result after while is  [2]\n",
      "final result is  [2, 1]\n",
      "=============\n",
      "n is  3\n",
      "mid is  1\n",
      "=============\n",
      "n is  1\n",
      "=============\n",
      "n is  2\n",
      "mid is  1\n",
      "=============\n",
      "n is  1\n",
      "=============\n",
      "n is  1\n",
      "result is  []\n",
      "group1[0] 4\n",
      "group2[0] 5\n",
      "result after while is  [5]\n",
      "final result is  [5, 4]\n",
      "result is  []\n",
      "group1[0] 3\n",
      "group2[0] 5\n",
      "group1[0] 3\n",
      "group2[0] 4\n",
      "result after while is  [5, 4]\n",
      "final result is  [5, 4, 3]\n",
      "result is  []\n",
      "group1[0] 2\n",
      "group2[0] 5\n",
      "group1[0] 2\n",
      "group2[0] 4\n",
      "group1[0] 2\n",
      "group2[0] 3\n",
      "result after while is  [5, 4, 3]\n",
      "final result is  [5, 4, 3, 2, 1]\n",
      "=============\n",
      "n is  5\n",
      "mid is  2\n",
      "=============\n",
      "n is  2\n",
      "mid is  1\n",
      "=============\n",
      "n is  1\n",
      "=============\n",
      "n is  1\n",
      "result is  []\n",
      "group1[0] 6\n",
      "group2[0] 7\n",
      "result after while is  [7]\n",
      "final result is  [7, 6]\n",
      "=============\n",
      "n is  3\n",
      "mid is  1\n",
      "=============\n",
      "n is  1\n",
      "=============\n",
      "n is  2\n",
      "mid is  1\n",
      "=============\n",
      "n is  1\n",
      "=============\n",
      "n is  1\n",
      "result is  []\n",
      "group1[0] 9\n",
      "group2[0] 10\n",
      "result after while is  [10]\n",
      "final result is  [10, 9]\n",
      "result is  []\n",
      "group1[0] 8\n",
      "group2[0] 10\n",
      "group1[0] 8\n",
      "group2[0] 9\n",
      "result after while is  [10, 9]\n",
      "final result is  [10, 9, 8]\n",
      "result is  []\n",
      "group1[0] 7\n",
      "group2[0] 10\n",
      "group1[0] 7\n",
      "group2[0] 9\n",
      "group1[0] 7\n",
      "group2[0] 8\n",
      "result after while is  [10, 9, 8]\n",
      "final result is  [10, 9, 8, 7, 6]\n",
      "result is  []\n",
      "group1[0] 5\n",
      "group2[0] 10\n",
      "group1[0] 5\n",
      "group2[0] 9\n",
      "group1[0] 5\n",
      "group2[0] 8\n",
      "group1[0] 5\n",
      "group2[0] 7\n",
      "group1[0] 5\n",
      "group2[0] 6\n",
      "result after while is  [10, 9, 8, 7, 6]\n",
      "final result is  [10, 9, 8, 7, 6, 5, 4, 3, 2, 1]\n"
     ]
    },
    {
     "data": {
      "text/plain": [
       "[10, 9, 8, 7, 6, 5, 4, 3, 2, 1]"
      ]
     },
     "execution_count": 81,
     "metadata": {},
     "output_type": "execute_result"
    }
   ],
   "source": [
    "merge_g_sort(d)"
   ]
  },
  {
   "cell_type": "markdown",
   "metadata": {},
   "source": [
    "### 11 퀵 정렬"
   ]
  },
  {
   "cell_type": "code",
   "execution_count": 82,
   "metadata": {},
   "outputs": [],
   "source": [
    "def quick_sort(lst):\n",
    "    n = len(lst)\n",
    "    if n <= 1:\n",
    "        return lst\n",
    "    \n",
    "    mid = lst[-1]\n",
    "    group1 = []\n",
    "    group2 = []\n",
    "    for i in range(0, n - 1):\n",
    "        if lst[i] < mid:\n",
    "            group1.append(lst[i]) \n",
    "        else:\n",
    "            group2.append(lst[i])\n",
    "            \n",
    "    return quick_sort(group1) + [mid] + quick_sort(group2)"
   ]
  },
  {
   "cell_type": "code",
   "execution_count": 83,
   "metadata": {},
   "outputs": [],
   "source": [
    "d = [6, 8, 3, 9, 10, 1, 2, 4, 7, 5]"
   ]
  },
  {
   "cell_type": "code",
   "execution_count": 84,
   "metadata": {},
   "outputs": [
    {
     "data": {
      "text/plain": [
       "[1, 2, 3, 4, 5, 6, 7, 8, 9, 10]"
      ]
     },
     "execution_count": 84,
     "metadata": {},
     "output_type": "execute_result"
    }
   ],
   "source": [
    "quick_sort(d)"
   ]
  },
  {
   "cell_type": "code",
   "execution_count": 85,
   "metadata": {},
   "outputs": [],
   "source": [
    "def general_quick_sort_sub(sub_lst, start, end):\n",
    "    if end - start <= 0:\n",
    "        return\n",
    "    mid = sub_lst[end]\n",
    "    i = start\n",
    "    for j in range(start, end):\n",
    "        if sub_lst[j] <= mid:\n",
    "            sub_lst[i], sub_lst[j] = sub_lst[j], sub_lst[i]\n",
    "            i += 1\n",
    "    sub_lst[i] , sub_lst[end] = sub_lst[end], sub_lst[i]\n",
    "    \n",
    "    general_quick_sort_sub(sub_lst, start, i - 1)\n",
    "    general_quick_sort_sub(sub_lst, i + 1, end)\n",
    "\n",
    "def general_quick_sort(lst):\n",
    "    general_quick_sort_sub(lst, 0, len(lst) - 1)"
   ]
  },
  {
   "cell_type": "code",
   "execution_count": 86,
   "metadata": {},
   "outputs": [],
   "source": [
    "d = [6, 8, 3, 9, 10, 1, 2, 4, 7, 5]"
   ]
  },
  {
   "cell_type": "code",
   "execution_count": 87,
   "metadata": {},
   "outputs": [],
   "source": [
    "general_quick_sort(d)"
   ]
  },
  {
   "cell_type": "code",
   "execution_count": 88,
   "metadata": {},
   "outputs": [
    {
     "name": "stdout",
     "output_type": "stream",
     "text": [
      "[1, 2, 3, 4, 5, 6, 7, 8, 9, 10]\n"
     ]
    }
   ],
   "source": [
    "print(d)"
   ]
  },
  {
   "cell_type": "markdown",
   "metadata": {},
   "source": [
    "### 12 이분탐색"
   ]
  },
  {
   "cell_type": "code",
   "execution_count": 89,
   "metadata": {},
   "outputs": [],
   "source": [
    "def binary_search(lst, num):\n",
    "    start = 0\n",
    "    end = len(lst) - 1\n",
    "    \n",
    "    while start <= end:\n",
    "        mid_idx = (start + end) // 2\n",
    "        print(\"==================\")\n",
    "        print(\"mid_idx is \", mid_idx)\n",
    "        print(\"start is \", start)\n",
    "        print(\"end is \", end)\n",
    "        if num == lst[mid_idx]:\n",
    "            return mid_idx\n",
    "        elif num > lst[mid_idx]:\n",
    "            start = mid_idx + 1\n",
    "        else:\n",
    "            end = mid_idx - 1\n",
    "        print(\"******************\")\n",
    "        print(\"mid_idx is \", mid_idx)\n",
    "        print(\"start is \", start)\n",
    "        print(\"end is \", end)\n",
    "    return -1"
   ]
  },
  {
   "cell_type": "code",
   "execution_count": 90,
   "metadata": {},
   "outputs": [],
   "source": [
    "d = [1, 4, 9, 16, 25, 36, 49, 64, 81]"
   ]
  },
  {
   "cell_type": "code",
   "execution_count": 91,
   "metadata": {},
   "outputs": [
    {
     "name": "stdout",
     "output_type": "stream",
     "text": [
      "==================\n",
      "mid_idx is  4\n",
      "start is  0\n",
      "end is  8\n",
      "******************\n",
      "mid_idx is  4\n",
      "start is  5\n",
      "end is  8\n",
      "==================\n",
      "mid_idx is  6\n",
      "start is  5\n",
      "end is  8\n",
      "******************\n",
      "mid_idx is  6\n",
      "start is  5\n",
      "end is  5\n",
      "==================\n",
      "mid_idx is  5\n",
      "start is  5\n",
      "end is  5\n"
     ]
    },
    {
     "data": {
      "text/plain": [
       "5"
      ]
     },
     "execution_count": 91,
     "metadata": {},
     "output_type": "execute_result"
    }
   ],
   "source": [
    "binary_search(d, 36)"
   ]
  },
  {
   "cell_type": "code",
   "execution_count": 92,
   "metadata": {},
   "outputs": [
    {
     "name": "stdout",
     "output_type": "stream",
     "text": [
      "==================\n",
      "mid_idx is  4\n",
      "start is  0\n",
      "end is  8\n",
      "******************\n",
      "mid_idx is  4\n",
      "start is  5\n",
      "end is  8\n",
      "==================\n",
      "mid_idx is  6\n",
      "start is  5\n",
      "end is  8\n",
      "******************\n",
      "mid_idx is  6\n",
      "start is  7\n",
      "end is  8\n",
      "==================\n",
      "mid_idx is  7\n",
      "start is  7\n",
      "end is  8\n",
      "******************\n",
      "mid_idx is  7\n",
      "start is  7\n",
      "end is  6\n"
     ]
    },
    {
     "data": {
      "text/plain": [
       "-1"
      ]
     },
     "execution_count": 92,
     "metadata": {},
     "output_type": "execute_result"
    }
   ],
   "source": [
    "binary_search(d, 50)"
   ]
  },
  {
   "cell_type": "markdown",
   "metadata": {},
   "source": [
    "### 연습문제"
   ]
  },
  {
   "cell_type": "markdown",
   "metadata": {},
   "source": [
    "#### 12-1. 다음 과정을 참고하여 재귀 호출을 사용한 이분 탐색 알고리즘을 만들어 보세요.\n",
    "① 주어진 탐색 대상이 비어 있다면 탐색할 필요가 없습니다(종료 조건).\n",
    "\n",
    "② 찾는 값과 주어진 탐색 대상의 중간 위치 값을 비교합니다.\n",
    "\n",
    "③ 찾는 값과 중간 위치 값이 같다면 결괏값으로 중간 위치 값을 돌려줍니다.\n",
    "\n",
    "④ 찾는 값이 중간 위치 값보다 크다면 중간 위치의 오른쪽을 대상으로 이분 탐색 함수를 재귀 호출합니다.\n",
    "\n",
    "⑤ 찾는 값이 중간 위치 값보다 작다면 중간 위치의 왼쪽을 대상으로 이분 탐색 함수를 재귀 호출합니다."
   ]
  },
  {
   "cell_type": "code",
   "execution_count": 93,
   "metadata": {},
   "outputs": [],
   "source": [
    "def p_binary_sub(lst, num, start, end):\n",
    "    if start > end:\n",
    "        return -1\n",
    "    \n",
    "    mid_idx = (start + end) // 2\n",
    "    print(\"lst is \", lst)\n",
    "    print(\"start is \", start)\n",
    "    print(\"end is \", end)\n",
    "    print(\"mid_idx is \", mid_idx)\n",
    "    \n",
    "    if num == lst[mid_idx]:\n",
    "        return mid_idx\n",
    "    elif num > lst[mid_idx]:\n",
    "        return p_binary_sub(lst, num, mid_idx + 1, end)\n",
    "    else:\n",
    "        return p_binary_sub(lst[:mid_idx], num, start, mid_idx - 1)\n",
    "    return -1\n",
    "\n",
    "        \n",
    "def p_binary(lst, num):\n",
    "    return p_binary_sub(lst, num, 0, len(lst) - 1)"
   ]
  },
  {
   "cell_type": "code",
   "execution_count": 94,
   "metadata": {},
   "outputs": [],
   "source": [
    "d = [1, 4, 9, 16, 25, 36, 49, 64, 81]"
   ]
  },
  {
   "cell_type": "code",
   "execution_count": 95,
   "metadata": {},
   "outputs": [
    {
     "name": "stdout",
     "output_type": "stream",
     "text": [
      "lst is  [1, 4, 9, 16, 25, 36, 49, 64, 81]\n",
      "start is  0\n",
      "end is  8\n",
      "mid_idx is  4\n",
      "lst is  [1, 4, 9, 16, 25, 36, 49, 64, 81]\n",
      "start is  5\n",
      "end is  8\n",
      "mid_idx is  6\n",
      "lst is  [1, 4, 9, 16, 25, 36]\n",
      "start is  5\n",
      "end is  5\n",
      "mid_idx is  5\n"
     ]
    },
    {
     "data": {
      "text/plain": [
       "5"
      ]
     },
     "execution_count": 95,
     "metadata": {},
     "output_type": "execute_result"
    }
   ],
   "source": [
    "p_binary(d, 36)"
   ]
  },
  {
   "cell_type": "code",
   "execution_count": 96,
   "metadata": {},
   "outputs": [
    {
     "name": "stdout",
     "output_type": "stream",
     "text": [
      "lst is  [1, 4, 9, 16, 25, 36, 49, 64, 81]\n",
      "start is  0\n",
      "end is  8\n",
      "mid_idx is  4\n",
      "lst is  [1, 4, 9, 16, 25, 36, 49, 64, 81]\n",
      "start is  5\n",
      "end is  8\n",
      "mid_idx is  6\n",
      "lst is  [1, 4, 9, 16, 25, 36, 49, 64, 81]\n",
      "start is  7\n",
      "end is  8\n",
      "mid_idx is  7\n"
     ]
    },
    {
     "data": {
      "text/plain": [
       "-1"
      ]
     },
     "execution_count": 96,
     "metadata": {},
     "output_type": "execute_result"
    }
   ],
   "source": [
    "p_binary(d, 50)"
   ]
  },
  {
   "cell_type": "code",
   "execution_count": null,
   "metadata": {},
   "outputs": [],
   "source": []
  },
  {
   "cell_type": "code",
   "execution_count": null,
   "metadata": {},
   "outputs": [],
   "source": []
  },
  {
   "cell_type": "code",
   "execution_count": null,
   "metadata": {},
   "outputs": [],
   "source": []
  },
  {
   "cell_type": "code",
   "execution_count": null,
   "metadata": {},
   "outputs": [],
   "source": []
  },
  {
   "cell_type": "code",
   "execution_count": null,
   "metadata": {},
   "outputs": [],
   "source": []
  },
  {
   "cell_type": "code",
   "execution_count": null,
   "metadata": {},
   "outputs": [],
   "source": []
  },
  {
   "cell_type": "code",
   "execution_count": null,
   "metadata": {},
   "outputs": [],
   "source": []
  },
  {
   "cell_type": "code",
   "execution_count": null,
   "metadata": {},
   "outputs": [],
   "source": []
  },
  {
   "cell_type": "code",
   "execution_count": null,
   "metadata": {},
   "outputs": [],
   "source": []
  },
  {
   "cell_type": "code",
   "execution_count": null,
   "metadata": {},
   "outputs": [],
   "source": []
  },
  {
   "cell_type": "code",
   "execution_count": null,
   "metadata": {},
   "outputs": [],
   "source": []
  }
 ],
 "metadata": {
  "kernelspec": {
   "display_name": "Python 3",
   "language": "python",
   "name": "python3"
  },
  "language_info": {
   "codemirror_mode": {
    "name": "ipython",
    "version": 3
   },
   "file_extension": ".py",
   "mimetype": "text/x-python",
   "name": "python",
   "nbconvert_exporter": "python",
   "pygments_lexer": "ipython3",
   "version": "3.6.5"
  }
 },
 "nbformat": 4,
 "nbformat_minor": 2
}
