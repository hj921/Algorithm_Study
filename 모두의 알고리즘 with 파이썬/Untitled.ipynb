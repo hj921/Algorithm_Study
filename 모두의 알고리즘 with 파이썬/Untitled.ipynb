{
 "cells": [
  {
   "cell_type": "code",
   "execution_count": 2,
   "metadata": {},
   "outputs": [],
   "source": [
    "from IPython.core.interactiveshell import InteractiveShell\n",
    "InteractiveShell.ast_node_interactivity = 'all'"
   ]
  },
  {
   "cell_type": "markdown",
   "metadata": {},
   "source": [
    "# 다섯째 마당: 응용문제"
   ]
  },
  {
   "cell_type": "markdown",
   "metadata": {},
   "source": [
    "### 16 미로찾기 알고리즘"
   ]
  },
  {
   "cell_type": "markdown",
   "metadata": {},
   "source": [
    "![](https://thebook.io/img/006935/159.jpg)"
   ]
  },
  {
   "cell_type": "code",
   "execution_count": 3,
   "metadata": {},
   "outputs": [],
   "source": [
    "maze = {\n",
    "    'a': ['e'],\n",
    "    'e': ['a', 'i'],\n",
    "    'i': ['e', 'm'],\n",
    "    'm': ['i', 'n'],\n",
    "    'n': ['m', 'j'],\n",
    "    'j': ['n', 'f', 'k'],\n",
    "    'f': ['j', 'b','g'],\n",
    "    'g': ['f', 'h'],\n",
    "    'h': ['l', 'g'],\n",
    "    'l': ['h', 'p'],\n",
    "    'p': ['l'],\n",
    "    'k': ['j', 'o'],\n",
    "    'o': ['k'],\n",
    "    'b': ['f', 'c'],\n",
    "    'c': ['b', 'd'],\n",
    "    'd': ['c']\n",
    "}"
   ]
  },
  {
   "cell_type": "code",
   "execution_count": 4,
   "metadata": {},
   "outputs": [],
   "source": [
    "def solve_maze(maze, start, end):\n",
    "    qu = []\n",
    "    done = set()\n",
    "    \n",
    "    qu.append(start)\n",
    "    done.add(start)\n",
    "    \n",
    "    while qu:\n",
    "        road = qu.pop(0)\n",
    "        v = road[-1]\n",
    "        if v == end:\n",
    "            return road\n",
    "        for i in maze[v]:\n",
    "            if i not in done:\n",
    "                qu.append(road + i)\n",
    "                done.add(i)\n",
    "        \n",
    "    return \"?\""
   ]
  },
  {
   "cell_type": "code",
   "execution_count": 5,
   "metadata": {},
   "outputs": [
    {
     "data": {
      "text/plain": [
       "'aeimnjfghlp'"
      ]
     },
     "execution_count": 5,
     "metadata": {},
     "output_type": "execute_result"
    }
   ],
   "source": [
    "solve_maze(maze, 'a', 'p')"
   ]
  },
  {
   "cell_type": "markdown",
   "metadata": {},
   "source": [
    "### 17 가짜 동전 찾기 알고리즘"
   ]
  },
  {
   "cell_type": "markdown",
   "metadata": {},
   "source": [
    "### 방법1: 하나 씩 비교하기"
   ]
  },
  {
   "cell_type": "code",
   "execution_count": 6,
   "metadata": {},
   "outputs": [],
   "source": [
    "def weight(a, b, c, d):\n",
    "    fake = 29\n",
    "    if a <= fake and fake <= b:\n",
    "        return -1\n",
    "    if c <= fake and fake <= d:\n",
    "        return 1\n",
    "    return 0"
   ]
  },
  {
   "cell_type": "code",
   "execution_count": 7,
   "metadata": {},
   "outputs": [],
   "source": [
    "def find_fakecoin(left, right):\n",
    "    for i in range(left + 1, right + 1):\n",
    "        result = weight(left, left, i, i)\n",
    "        if result == -1:\n",
    "            return left\n",
    "        elif result == 1:\n",
    "            return i\n",
    "        \n",
    "    return -1"
   ]
  },
  {
   "cell_type": "code",
   "execution_count": 8,
   "metadata": {},
   "outputs": [],
   "source": [
    "n = 100"
   ]
  },
  {
   "cell_type": "code",
   "execution_count": 9,
   "metadata": {},
   "outputs": [
    {
     "data": {
      "text/plain": [
       "29"
      ]
     },
     "execution_count": 9,
     "metadata": {},
     "output_type": "execute_result"
    }
   ],
   "source": [
    "find_fakecoin(0, n-1)"
   ]
  },
  {
   "cell_type": "markdown",
   "metadata": {},
   "source": [
    "### 방법2: 반씩 그룹으로 나누어 비교하기"
   ]
  },
  {
   "cell_type": "code",
   "execution_count": 10,
   "metadata": {},
   "outputs": [],
   "source": [
    "def weigh(a, b, c, d):\n",
    "    fake = 29\n",
    "    if a<= fake and fake <= b:\n",
    "        return -1\n",
    "    if c <= fake and fake <= d:\n",
    "        return 1\n",
    "    return 0"
   ]
  },
  {
   "cell_type": "code",
   "execution_count": 14,
   "metadata": {},
   "outputs": [],
   "source": [
    "def find_fakecoin(left, right):\n",
    "    if left == right:\n",
    "        return left\n",
    "    \n",
    "    half = (right - left + 1) // 2\n",
    "    group1_left = left\n",
    "    group1_right = left + half - 1\n",
    "    group2_left = left + half\n",
    "    group2_right = group2_left + half - 1\n",
    "    \n",
    "    result = weigh(group1_left, group1_right, group2_left, group2_right)\n",
    "    \n",
    "    if result == -1:\n",
    "        return find_fakecoin(group1_left, group1_right)\n",
    "    elif result == 1:\n",
    "        return find_fakecoin(group2_left, group2_right)\n",
    "    else:\n",
    "        return right"
   ]
  },
  {
   "cell_type": "code",
   "execution_count": 15,
   "metadata": {},
   "outputs": [],
   "source": [
    "n = 100"
   ]
  },
  {
   "cell_type": "code",
   "execution_count": 16,
   "metadata": {},
   "outputs": [
    {
     "name": "stdout",
     "output_type": "stream",
     "text": [
      "29\n"
     ]
    }
   ],
   "source": [
    "print(find_fakecoin(0, n-1))"
   ]
  },
  {
   "cell_type": "markdown",
   "metadata": {},
   "source": [
    "### 18 최대 수익 알고리즘"
   ]
  },
  {
   "cell_type": "code",
   "execution_count": 17,
   "metadata": {},
   "outputs": [],
   "source": [
    "stock = [10300, 9600, 9800, 8200, 7800, 8300, 9500, 9800, 10200, 9500]"
   ]
  },
  {
   "cell_type": "markdown",
   "metadata": {},
   "source": [
    "### 방법1: 가능한 모든 경우 반복하기."
   ]
  },
  {
   "cell_type": "code",
   "execution_count": 19,
   "metadata": {},
   "outputs": [],
   "source": [
    "def max_profit(prices):\n",
    "    n = len(prices)\n",
    "    max_profit = 0\n",
    "    \n",
    "    for i in range(0, n - 1):\n",
    "        for j in range(i + 1, n):\n",
    "            profit = prices[j] - prices[i]\n",
    "            \n",
    "            if profit > max_profit:\n",
    "                max_profit = profit\n",
    "                \n",
    "    return max_profit"
   ]
  },
  {
   "cell_type": "code",
   "execution_count": 20,
   "metadata": {},
   "outputs": [
    {
     "name": "stdout",
     "output_type": "stream",
     "text": [
      "2400\n"
     ]
    }
   ],
   "source": [
    "print(max_profit(stock))"
   ]
  },
  {
   "cell_type": "markdown",
   "metadata": {},
   "source": [
    "### 방법2: 한 번 반복으로 최대 수익 찾기"
   ]
  },
  {
   "cell_type": "markdown",
   "metadata": {},
   "source": [
    "0. 최대 수익을 저장하는 변수를 만들고 0을 저장\n",
    "1. 지금까지의 최저 주가를 저장하는 변수를 만들고 첫째 날의 주가를 기록\n",
    "2. 둘째 날의 주가부터 마지막 날의 주가까지 반복\n",
    "3. 반복하는 동안 그날의 주가에서 최저 주가를 뺀 값이 현재 최대 수익보다 크면 최대 수익을 그 값으로 변경\n",
    "4. 그날의 주가가 최저 주가보다 낮으면 최저 주가 값을 그날의 주가로 변경\n",
    "5. 처리할 날이 남았으면 4번 과정으로 돌아가 반복, 다 마쳤으면 최대 수익에 저장된 결과값을 돌려주고 종료"
   ]
  },
  {
   "cell_type": "code",
   "execution_count": 24,
   "metadata": {},
   "outputs": [],
   "source": [
    "def max_profit2(prices):\n",
    "    n = len(prices)\n",
    "    max_profit = 0\n",
    "    min_price = prices[0]\n",
    "    \n",
    "    for i in range(1, n):\n",
    "        profit = prices[i] - min_price\n",
    "        \n",
    "        if profit > max_profit:\n",
    "            max_profit = profit\n",
    "        if prices[i] < min_price:\n",
    "            min_price = prices[i]\n",
    "    \n",
    "    return max_profit"
   ]
  },
  {
   "cell_type": "code",
   "execution_count": 25,
   "metadata": {},
   "outputs": [],
   "source": [
    "stock = [10300, 9600, 9800, 8200, 7800, 8300, 9500, 9800, 10200, 9500]"
   ]
  },
  {
   "cell_type": "code",
   "execution_count": 26,
   "metadata": {},
   "outputs": [
    {
     "name": "stdout",
     "output_type": "stream",
     "text": [
      "2400\n"
     ]
    }
   ],
   "source": [
    "print(max_profit2(stock))"
   ]
  },
  {
   "cell_type": "markdown",
   "metadata": {},
   "source": [
    "### 알고리즘 계산 속도 비교하기"
   ]
  },
  {
   "cell_type": "code",
   "execution_count": 27,
   "metadata": {},
   "outputs": [],
   "source": [
    "import time\n",
    "import random"
   ]
  },
  {
   "cell_type": "code",
   "execution_count": 35,
   "metadata": {},
   "outputs": [],
   "source": [
    "def max_profit_slow(prices):\n",
    "    n = len(prices)\n",
    "    max_profit = 0\n",
    "    \n",
    "    for i in range(0, n - 1):\n",
    "        for j in range(i + 1, n):\n",
    "            profit = prices[j] - prices[i]\n",
    "            \n",
    "            if profit > max_profit:\n",
    "                max_profit = profit\n",
    "                \n",
    "    return max_profit\n",
    "\n",
    "def max_profit_fast(prices):\n",
    "    n = len(prices)\n",
    "    max_profit = 0\n",
    "    min_price = prices[0]\n",
    "    \n",
    "    for i in range(1, n):\n",
    "        profit = prices[i] - min_price\n",
    "        \n",
    "        if profit > max_profit:\n",
    "            max_profit = profit\n",
    "        if prices[i] < min_price:\n",
    "            min_price = prices[i]\n",
    "    \n",
    "    return max_profit\n",
    "\n",
    "def test(n):\n",
    "    a = []\n",
    "    for i in range(0, n):\n",
    "        a.append(random.randint(5000, 20000))\n",
    "    \n",
    "    start = time.time()\n",
    "    mps = max_profit_slow(a)\n",
    "    end = time.time()\n",
    "    time_slow = end - start\n",
    "    \n",
    "    \n",
    "    start = time.time()\n",
    "    mpf = max_profit_fast(a)\n",
    "    end = time.time()\n",
    "    time_fast = end - start\n",
    "    \n",
    "    print(n, mps, mpf)\n",
    "    \n",
    "    m = 0\n",
    "    if time_fast > 0:\n",
    "        m = time_slow / time_fast\n",
    "    \n",
    "    print(\" %d %.5f %.5f %.2f\" % (n, time_slow, time_fast, m))"
   ]
  },
  {
   "cell_type": "code",
   "execution_count": 36,
   "metadata": {},
   "outputs": [
    {
     "name": "stdout",
     "output_type": "stream",
     "text": [
      "100 14422 14422\n",
      " 100 0.00000 0.00000 0.00\n"
     ]
    }
   ],
   "source": [
    "test(100)"
   ]
  },
  {
   "cell_type": "code",
   "execution_count": 37,
   "metadata": {},
   "outputs": [
    {
     "name": "stdout",
     "output_type": "stream",
     "text": [
      "10000 14999 14999\n",
      " 10000 9.23905 0.00231 3992.93\n"
     ]
    }
   ],
   "source": [
    "test(10000)"
   ]
  },
  {
   "cell_type": "code",
   "execution_count": null,
   "metadata": {},
   "outputs": [],
   "source": []
  }
 ],
 "metadata": {
  "kernelspec": {
   "display_name": "Python 3",
   "language": "python",
   "name": "python3"
  },
  "language_info": {
   "codemirror_mode": {
    "name": "ipython",
    "version": 3
   },
   "file_extension": ".py",
   "mimetype": "text/x-python",
   "name": "python",
   "nbconvert_exporter": "python",
   "pygments_lexer": "ipython3",
   "version": "3.6.5"
  }
 },
 "nbformat": 4,
 "nbformat_minor": 2
}
